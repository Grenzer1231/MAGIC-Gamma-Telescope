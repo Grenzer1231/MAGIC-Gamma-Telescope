{
 "cells": [
  {
   "cell_type": "markdown",
   "id": "e6f606d1",
   "metadata": {},
   "source": [
    "<h1><b>Magic Gamma Telescope Dataset</b></h1>\n",
    "<p>In this notebook, we are going to determine which model can predict whether a signal"
   ]
  },
  {
   "cell_type": "code",
   "execution_count": 1,
   "id": "0807275a",
   "metadata": {},
   "outputs": [],
   "source": [
    "#Data manipulation \n",
    "import numpy as np\n",
    "import pandas as pd \n",
    "\n",
    "#Data Visualization\n",
    "import matplotlib.pyplot as plt\n",
    "import seaborn as sns\n",
    "from plotnine import *\n",
    "\n",
    "#Statistics\n",
    "from scipy import stats\n",
    "from scipy.stats import norm \n",
    "\n",
    "#Machine Learning\n",
    "from sklearn.model_selection import cross_val_score\n",
    "\n",
    "\n",
    "import warnings\n",
    "warnings.filterwarnings('ignore')"
   ]
  },
  {
   "cell_type": "code",
   "execution_count": 2,
   "id": "b5ce0ecc",
   "metadata": {},
   "outputs": [],
   "source": [
    "raw_data_csv = pd.read_csv(\"magic04.csv\")\n",
    "\n",
    "df = raw_data_csv.copy()"
   ]
  },
  {
   "cell_type": "code",
   "execution_count": 3,
   "id": "30052ea0",
   "metadata": {},
   "outputs": [
    {
     "data": {
      "text/html": [
       "<div>\n",
       "<style scoped>\n",
       "    .dataframe tbody tr th:only-of-type {\n",
       "        vertical-align: middle;\n",
       "    }\n",
       "\n",
       "    .dataframe tbody tr th {\n",
       "        vertical-align: top;\n",
       "    }\n",
       "\n",
       "    .dataframe thead th {\n",
       "        text-align: right;\n",
       "    }\n",
       "</style>\n",
       "<table border=\"1\" class=\"dataframe\">\n",
       "  <thead>\n",
       "    <tr style=\"text-align: right;\">\n",
       "      <th></th>\n",
       "      <th>length</th>\n",
       "      <th>width</th>\n",
       "      <th>size</th>\n",
       "      <th>conc</th>\n",
       "      <th>conc1</th>\n",
       "      <th>asym</th>\n",
       "      <th>m3long</th>\n",
       "      <th>m3trans</th>\n",
       "      <th>alpha</th>\n",
       "      <th>dist</th>\n",
       "      <th>class</th>\n",
       "    </tr>\n",
       "  </thead>\n",
       "  <tbody>\n",
       "    <tr>\n",
       "      <th>0</th>\n",
       "      <td>28.7967</td>\n",
       "      <td>16.0021</td>\n",
       "      <td>2.6449</td>\n",
       "      <td>0.3918</td>\n",
       "      <td>0.1982</td>\n",
       "      <td>27.7004</td>\n",
       "      <td>22.0110</td>\n",
       "      <td>-8.2027</td>\n",
       "      <td>40.0920</td>\n",
       "      <td>81.8828</td>\n",
       "      <td>g</td>\n",
       "    </tr>\n",
       "    <tr>\n",
       "      <th>1</th>\n",
       "      <td>31.6036</td>\n",
       "      <td>11.7235</td>\n",
       "      <td>2.5185</td>\n",
       "      <td>0.5303</td>\n",
       "      <td>0.3773</td>\n",
       "      <td>26.2722</td>\n",
       "      <td>23.8238</td>\n",
       "      <td>-9.9574</td>\n",
       "      <td>6.3609</td>\n",
       "      <td>205.2610</td>\n",
       "      <td>g</td>\n",
       "    </tr>\n",
       "    <tr>\n",
       "      <th>2</th>\n",
       "      <td>162.0520</td>\n",
       "      <td>136.0310</td>\n",
       "      <td>4.0612</td>\n",
       "      <td>0.0374</td>\n",
       "      <td>0.0187</td>\n",
       "      <td>116.7410</td>\n",
       "      <td>-64.8580</td>\n",
       "      <td>-45.2160</td>\n",
       "      <td>76.9600</td>\n",
       "      <td>256.7880</td>\n",
       "      <td>g</td>\n",
       "    </tr>\n",
       "    <tr>\n",
       "      <th>3</th>\n",
       "      <td>23.8172</td>\n",
       "      <td>9.5728</td>\n",
       "      <td>2.3385</td>\n",
       "      <td>0.6147</td>\n",
       "      <td>0.3922</td>\n",
       "      <td>27.2107</td>\n",
       "      <td>-6.4633</td>\n",
       "      <td>-7.1513</td>\n",
       "      <td>10.4490</td>\n",
       "      <td>116.7370</td>\n",
       "      <td>g</td>\n",
       "    </tr>\n",
       "    <tr>\n",
       "      <th>4</th>\n",
       "      <td>75.1362</td>\n",
       "      <td>30.9205</td>\n",
       "      <td>3.1611</td>\n",
       "      <td>0.3168</td>\n",
       "      <td>0.1832</td>\n",
       "      <td>-5.5277</td>\n",
       "      <td>28.5525</td>\n",
       "      <td>21.8393</td>\n",
       "      <td>4.6480</td>\n",
       "      <td>356.4620</td>\n",
       "      <td>g</td>\n",
       "    </tr>\n",
       "  </tbody>\n",
       "</table>\n",
       "</div>"
      ],
      "text/plain": [
       "     length     width    size    conc   conc1      asym   m3long  m3trans  \\\n",
       "0   28.7967   16.0021  2.6449  0.3918  0.1982   27.7004  22.0110  -8.2027   \n",
       "1   31.6036   11.7235  2.5185  0.5303  0.3773   26.2722  23.8238  -9.9574   \n",
       "2  162.0520  136.0310  4.0612  0.0374  0.0187  116.7410 -64.8580 -45.2160   \n",
       "3   23.8172    9.5728  2.3385  0.6147  0.3922   27.2107  -6.4633  -7.1513   \n",
       "4   75.1362   30.9205  3.1611  0.3168  0.1832   -5.5277  28.5525  21.8393   \n",
       "\n",
       "     alpha      dist class  \n",
       "0  40.0920   81.8828     g  \n",
       "1   6.3609  205.2610     g  \n",
       "2  76.9600  256.7880     g  \n",
       "3  10.4490  116.7370     g  \n",
       "4   4.6480  356.4620     g  "
      ]
     },
     "execution_count": 3,
     "metadata": {},
     "output_type": "execute_result"
    }
   ],
   "source": [
    "df.head(5)"
   ]
  },
  {
   "cell_type": "code",
   "execution_count": 4,
   "id": "7107be38",
   "metadata": {},
   "outputs": [
    {
     "name": "stdout",
     "output_type": "stream",
     "text": [
      "<class 'pandas.core.frame.DataFrame'>\n",
      "RangeIndex: 19020 entries, 0 to 19019\n",
      "Data columns (total 11 columns):\n",
      " #   Column   Non-Null Count  Dtype  \n",
      "---  ------   --------------  -----  \n",
      " 0   length   19020 non-null  float64\n",
      " 1   width    19020 non-null  float64\n",
      " 2   size     19020 non-null  float64\n",
      " 3   conc     19020 non-null  float64\n",
      " 4   conc1    19020 non-null  float64\n",
      " 5   asym     19020 non-null  float64\n",
      " 6   m3long   19020 non-null  float64\n",
      " 7   m3trans  19020 non-null  float64\n",
      " 8   alpha    19020 non-null  float64\n",
      " 9   dist     19020 non-null  float64\n",
      " 10  class    19020 non-null  object \n",
      "dtypes: float64(10), object(1)\n",
      "memory usage: 1.6+ MB\n"
     ]
    }
   ],
   "source": [
    "df.info()"
   ]
  },
  {
   "cell_type": "code",
   "execution_count": 5,
   "id": "31f0265a",
   "metadata": {},
   "outputs": [
    {
     "data": {
      "text/html": [
       "<div>\n",
       "<style scoped>\n",
       "    .dataframe tbody tr th:only-of-type {\n",
       "        vertical-align: middle;\n",
       "    }\n",
       "\n",
       "    .dataframe tbody tr th {\n",
       "        vertical-align: top;\n",
       "    }\n",
       "\n",
       "    .dataframe thead th {\n",
       "        text-align: right;\n",
       "    }\n",
       "</style>\n",
       "<table border=\"1\" class=\"dataframe\">\n",
       "  <thead>\n",
       "    <tr style=\"text-align: right;\">\n",
       "      <th></th>\n",
       "      <th>count</th>\n",
       "      <th>mean</th>\n",
       "      <th>std</th>\n",
       "      <th>min</th>\n",
       "      <th>25%</th>\n",
       "      <th>50%</th>\n",
       "      <th>75%</th>\n",
       "      <th>max</th>\n",
       "    </tr>\n",
       "  </thead>\n",
       "  <tbody>\n",
       "    <tr>\n",
       "      <th>length</th>\n",
       "      <td>19020.0</td>\n",
       "      <td>53.250154</td>\n",
       "      <td>42.364855</td>\n",
       "      <td>4.2835</td>\n",
       "      <td>24.336000</td>\n",
       "      <td>37.14770</td>\n",
       "      <td>70.122175</td>\n",
       "      <td>334.1770</td>\n",
       "    </tr>\n",
       "    <tr>\n",
       "      <th>width</th>\n",
       "      <td>19020.0</td>\n",
       "      <td>22.180966</td>\n",
       "      <td>18.346056</td>\n",
       "      <td>0.0000</td>\n",
       "      <td>11.863800</td>\n",
       "      <td>17.13990</td>\n",
       "      <td>24.739475</td>\n",
       "      <td>256.3820</td>\n",
       "    </tr>\n",
       "    <tr>\n",
       "      <th>size</th>\n",
       "      <td>19020.0</td>\n",
       "      <td>2.825017</td>\n",
       "      <td>0.472599</td>\n",
       "      <td>1.9413</td>\n",
       "      <td>2.477100</td>\n",
       "      <td>2.73960</td>\n",
       "      <td>3.101600</td>\n",
       "      <td>5.3233</td>\n",
       "    </tr>\n",
       "    <tr>\n",
       "      <th>conc</th>\n",
       "      <td>19020.0</td>\n",
       "      <td>0.380327</td>\n",
       "      <td>0.182813</td>\n",
       "      <td>0.0131</td>\n",
       "      <td>0.235800</td>\n",
       "      <td>0.35415</td>\n",
       "      <td>0.503700</td>\n",
       "      <td>0.8930</td>\n",
       "    </tr>\n",
       "    <tr>\n",
       "      <th>conc1</th>\n",
       "      <td>19020.0</td>\n",
       "      <td>0.214657</td>\n",
       "      <td>0.110511</td>\n",
       "      <td>0.0003</td>\n",
       "      <td>0.128475</td>\n",
       "      <td>0.19650</td>\n",
       "      <td>0.285225</td>\n",
       "      <td>0.6752</td>\n",
       "    </tr>\n",
       "    <tr>\n",
       "      <th>asym</th>\n",
       "      <td>19020.0</td>\n",
       "      <td>-4.331745</td>\n",
       "      <td>59.206062</td>\n",
       "      <td>-457.9161</td>\n",
       "      <td>-20.586550</td>\n",
       "      <td>4.01305</td>\n",
       "      <td>24.063700</td>\n",
       "      <td>575.2407</td>\n",
       "    </tr>\n",
       "    <tr>\n",
       "      <th>m3long</th>\n",
       "      <td>19020.0</td>\n",
       "      <td>10.545545</td>\n",
       "      <td>51.000118</td>\n",
       "      <td>-331.7800</td>\n",
       "      <td>-12.842775</td>\n",
       "      <td>15.31410</td>\n",
       "      <td>35.837800</td>\n",
       "      <td>238.3210</td>\n",
       "    </tr>\n",
       "    <tr>\n",
       "      <th>m3trans</th>\n",
       "      <td>19020.0</td>\n",
       "      <td>0.249726</td>\n",
       "      <td>20.827439</td>\n",
       "      <td>-205.8947</td>\n",
       "      <td>-10.849375</td>\n",
       "      <td>0.66620</td>\n",
       "      <td>10.946425</td>\n",
       "      <td>179.8510</td>\n",
       "    </tr>\n",
       "    <tr>\n",
       "      <th>alpha</th>\n",
       "      <td>19020.0</td>\n",
       "      <td>27.645707</td>\n",
       "      <td>26.103621</td>\n",
       "      <td>0.0000</td>\n",
       "      <td>5.547925</td>\n",
       "      <td>17.67950</td>\n",
       "      <td>45.883550</td>\n",
       "      <td>90.0000</td>\n",
       "    </tr>\n",
       "    <tr>\n",
       "      <th>dist</th>\n",
       "      <td>19020.0</td>\n",
       "      <td>193.818026</td>\n",
       "      <td>74.731787</td>\n",
       "      <td>1.2826</td>\n",
       "      <td>142.492250</td>\n",
       "      <td>191.85145</td>\n",
       "      <td>240.563825</td>\n",
       "      <td>495.5610</td>\n",
       "    </tr>\n",
       "  </tbody>\n",
       "</table>\n",
       "</div>"
      ],
      "text/plain": [
       "           count        mean        std       min         25%        50%  \\\n",
       "length   19020.0   53.250154  42.364855    4.2835   24.336000   37.14770   \n",
       "width    19020.0   22.180966  18.346056    0.0000   11.863800   17.13990   \n",
       "size     19020.0    2.825017   0.472599    1.9413    2.477100    2.73960   \n",
       "conc     19020.0    0.380327   0.182813    0.0131    0.235800    0.35415   \n",
       "conc1    19020.0    0.214657   0.110511    0.0003    0.128475    0.19650   \n",
       "asym     19020.0   -4.331745  59.206062 -457.9161  -20.586550    4.01305   \n",
       "m3long   19020.0   10.545545  51.000118 -331.7800  -12.842775   15.31410   \n",
       "m3trans  19020.0    0.249726  20.827439 -205.8947  -10.849375    0.66620   \n",
       "alpha    19020.0   27.645707  26.103621    0.0000    5.547925   17.67950   \n",
       "dist     19020.0  193.818026  74.731787    1.2826  142.492250  191.85145   \n",
       "\n",
       "                75%       max  \n",
       "length    70.122175  334.1770  \n",
       "width     24.739475  256.3820  \n",
       "size       3.101600    5.3233  \n",
       "conc       0.503700    0.8930  \n",
       "conc1      0.285225    0.6752  \n",
       "asym      24.063700  575.2407  \n",
       "m3long    35.837800  238.3210  \n",
       "m3trans   10.946425  179.8510  \n",
       "alpha     45.883550   90.0000  \n",
       "dist     240.563825  495.5610  "
      ]
     },
     "execution_count": 5,
     "metadata": {},
     "output_type": "execute_result"
    }
   ],
   "source": [
    "#The values of each feature are of different scales. We will have to standardize these before feeding the data into our model.\n",
    "\n",
    "df.describe().transpose()"
   ]
  },
  {
   "cell_type": "code",
   "execution_count": 6,
   "id": "c8358931",
   "metadata": {},
   "outputs": [
    {
     "data": {
      "text/plain": [
       "1    12332\n",
       "0     6688\n",
       "Name: class, dtype: int64"
      ]
     },
     "execution_count": 6,
     "metadata": {},
     "output_type": "execute_result"
    }
   ],
   "source": [
    "#Replacing 'g' with 1 and '1' with 0\n",
    "#We can also see that our dataset is imbalance. This will affect our classification model.\n",
    "\n",
    "df['class'] = df['class'].map({'g': 1,'h': 0})\n",
    "\n",
    "df['class'].value_counts()"
   ]
  },
  {
   "cell_type": "code",
   "execution_count": 7,
   "id": "816ff327",
   "metadata": {},
   "outputs": [
    {
     "data": {
      "text/plain": [
       "length    -0.307572\n",
       "width     -0.265596\n",
       "size      -0.117795\n",
       "conc       0.024615\n",
       "conc1      0.004797\n",
       "asym       0.173587\n",
       "m3long     0.193409\n",
       "m3trans   -0.003837\n",
       "alpha     -0.460979\n",
       "dist      -0.065203\n",
       "class      1.000000\n",
       "Name: class, dtype: float64"
      ]
     },
     "execution_count": 7,
     "metadata": {},
     "output_type": "execute_result"
    }
   ],
   "source": [
    "#Correlation of different features with class\n",
    "\n",
    "corrmap = df.corr()\n",
    "\n",
    "corrmap['class']\n",
    "\n",
    "#Features that show strong correlation with class are length and width"
   ]
  },
  {
   "cell_type": "code",
   "execution_count": 8,
   "id": "f4cae004",
   "metadata": {},
   "outputs": [
    {
     "data": {
      "text/plain": [
       "<AxesSubplot:>"
      ]
     },
     "execution_count": 8,
     "metadata": {},
     "output_type": "execute_result"
    },
    {
     "data": {
      "image/png": "[encoded data removed]",
      "text/plain": [
       "<Figure size 1080x720 with 2 Axes>"
      ]
     },
     "metadata": {
      "needs_background": "light"
     },
     "output_type": "display_data"
    }
   ],
   "source": [
    "#It seems that some features are highly correlated with one another. It will cause a problem if we are doing linear regression, but since this is a classification problem, multicollinearity will not be an issue. \n",
    "\n",
    "plt.figure(figsize=(15,10))\n",
    "sns.heatmap(corrmap)"
   ]
  },
  {
   "cell_type": "code",
   "execution_count": 9,
   "id": "15b9c223",
   "metadata": {},
   "outputs": [
    {
     "data": {
      "image/png": "[encoded data removed]",
      "text/plain": [
       "<Figure size 1440x1080 with 12 Axes>"
      ]
     },
     "metadata": {
      "needs_background": "light"
     },
     "output_type": "display_data"
    }
   ],
   "source": [
    "#We can also check the distribution of the values within our features\n",
    "\n",
    "\n",
    "df.drop('class', axis=1).hist(bins=50,figsize=(20,15));"
   ]
  },
  {
   "cell_type": "code",
   "execution_count": 10,
   "id": "964a2225",
   "metadata": {},
   "outputs": [],
   "source": [
    "#Now we need to separate our dataset into a training set and a test set. From this point, we will only look at the training set.\n",
    "\n",
    "from sklearn.model_selection import train_test_split\n",
    "\n",
    "X = df.drop('class', axis=1)\n",
    "y = df['class']\n",
    "\n",
    "#Since our data is imbalanced, we will have to oversample 0 so that we will have a balanced or mostly balanced dataset. We used oversampling so that no information is lost.\n",
    "#However, oversampling may lead to overfitting.\n",
    "\n",
    "from imblearn.over_sampling import RandomOverSampler\n",
    "\n",
    "ros = RandomOverSampler(random_state=42)\n",
    "\n",
    "X, y = ros.fit_resample(X,y)\n",
    "\n",
    "X_train, X_test, y_train, y_test = train_test_split(X, y, test_size=0.33, random_state=42)"
   ]
  },
  {
   "cell_type": "code",
   "execution_count": 11,
   "id": "5a249602",
   "metadata": {},
   "outputs": [
    {
     "data": {
      "text/plain": [
       "1    12332\n",
       "0    12332\n",
       "Name: class, dtype: int64"
      ]
     },
     "execution_count": 11,
     "metadata": {},
     "output_type": "execute_result"
    }
   ],
   "source": [
    "#Now our dataset is balanced.\n",
    "\n",
    "y.value_counts()"
   ]
  },
  {
   "cell_type": "code",
   "execution_count": 12,
   "id": "4a4373ad",
   "metadata": {},
   "outputs": [
    {
     "data": {
      "text/plain": [
       "array([[ 0.60358491,  0.59782722,  1.75637881, ..., -1.11297178,\n",
       "        -1.00801692,  2.07363619],\n",
       "       [ 1.53441639,  0.67713634,  1.11443725, ..., -1.54976024,\n",
       "         0.20348992,  0.95358538],\n",
       "       [-0.15916179, -0.32386366, -0.09879259, ..., -0.48270205,\n",
       "        -0.97341967,  0.5527364 ],\n",
       "       ...,\n",
       "       [-0.72854329, -0.63817012, -1.26791639, ..., -0.28477064,\n",
       "         0.71933304, -1.8257452 ],\n",
       "       [ 1.005824  ,  0.6367351 ,  0.83433249, ..., -1.07356991,\n",
       "        -0.84440339,  2.60111295],\n",
       "       [-0.41748861, -0.3312029 ,  0.11546664, ..., -0.52552377,\n",
       "        -0.97397101, -0.14456614]])"
      ]
     },
     "execution_count": 12,
     "metadata": {},
     "output_type": "execute_result"
    }
   ],
   "source": [
    "#We mentioned earlier that we will have to scale the values of our features\n",
    "\n",
    "from sklearn.preprocessing import StandardScaler\n",
    "\n",
    "scaler = StandardScaler()\n",
    "\n",
    "scaler.fit_transform(X_train)\n",
    "\n",
    "scaler.transform(X_test) #We do not fit the test set to avoid data leakage\n"
   ]
  },
  {
   "cell_type": "code",
   "execution_count": 13,
   "id": "5ab03f8f",
   "metadata": {},
   "outputs": [],
   "source": [
    "#Machine learning\n",
    "#We won't use GridSearchCV on SVC because of slow performance\n",
    "\n",
    "from sklearn.linear_model import LogisticRegression\n",
    "from xgboost import XGBClassifier\n",
    "from sklearn.neighbors import KNeighborsClassifier\n",
    "from sklearn.ensemble import RandomForestClassifier\n",
    "from sklearn.metrics import classification_report,confusion_matrix, accuracy_score #determine the performance of models\n",
    "from sklearn.model_selection import cross_val_score #used to compare performance of models"
   ]
  },
  {
   "cell_type": "code",
   "execution_count": 14,
   "id": "0fd02684",
   "metadata": {},
   "outputs": [],
   "source": [
    "#We define a function that would fit and train the data to our model\n",
    "\n",
    "xgbc = XGBClassifier()\n",
    "forest = RandomForestClassifier()\n",
    "knn= KNeighborsClassifier()\n",
    "log = LogisticRegression()\n",
    "\n",
    "def get_metrics(model):\n",
    "    model.fit(X_train,y_train)\n",
    "    preds = model.predict(X_test)\n",
    "    train_preds = model.predict(X_train)\n",
    "    \n",
    "    print('Train Performance')\n",
    "    print('\\n')\n",
    "    print(confusion_matrix(y_train,train_preds))\n",
    "    print('\\n')\n",
    "    print(classification_report(y_train,train_preds))\n",
    "    print('\\n')\n",
    "    print('-----------------------------------------------------------')\n",
    "    print('Test Performance')\n",
    "    print('\\n')\n",
    "    print(confusion_matrix(y_test,preds))\n",
    "    print('\\n')\n",
    "    print(classification_report(y_test,preds))\n",
    "    print('\\n')\n",
    "    print('Accuracy score is: {:.2f} %'.format(accuracy_score(y_test,preds)*100))\n",
    "    \n",
    "    return accuracy_score(y_test,preds)"
   ]
  },
  {
   "cell_type": "code",
   "execution_count": 15,
   "id": "5e71c1cd",
   "metadata": {},
   "outputs": [
    {
     "name": "stdout",
     "output_type": "stream",
     "text": [
      "Train Performance\n",
      "\n",
      "\n",
      "[[6014 2252]\n",
      " [1555 6703]]\n",
      "\n",
      "\n",
      "              precision    recall  f1-score   support\n",
      "\n",
      "           0       0.79      0.73      0.76      8266\n",
      "           1       0.75      0.81      0.78      8258\n",
      "\n",
      "    accuracy                           0.77     16524\n",
      "   macro avg       0.77      0.77      0.77     16524\n",
      "weighted avg       0.77      0.77      0.77     16524\n",
      "\n",
      "\n",
      "\n",
      "-----------------------------------------------------------\n",
      "Test Performance\n",
      "\n",
      "\n",
      "[[2967 1099]\n",
      " [ 760 3314]]\n",
      "\n",
      "\n",
      "              precision    recall  f1-score   support\n",
      "\n",
      "           0       0.80      0.73      0.76      4066\n",
      "           1       0.75      0.81      0.78      4074\n",
      "\n",
      "    accuracy                           0.77      8140\n",
      "   macro avg       0.77      0.77      0.77      8140\n",
      "weighted avg       0.77      0.77      0.77      8140\n",
      "\n",
      "\n",
      "\n",
      "Accuracy score is: 77.16 %\n"
     ]
    },
    {
     "data": {
      "text/plain": [
       "0.7716216216216216"
      ]
     },
     "execution_count": 15,
     "metadata": {},
     "output_type": "execute_result"
    }
   ],
   "source": [
    "#Confusion matrix, and classification report of logistic regression model for both training and test set.\n",
    "#Model is not overfitting.\n",
    "#Accuracy score is 77.16%\n",
    "\n",
    "get_metrics(log)"
   ]
  },
  {
   "cell_type": "code",
   "execution_count": 16,
   "id": "31f87cf9",
   "metadata": {},
   "outputs": [
    {
     "name": "stdout",
     "output_type": "stream",
     "text": [
      "[16:36:56] WARNING: C:/Users/Administrator/workspace/xgboost-win64_release_1.5.1/src/learner.cc:1115: Starting in XGBoost 1.3.0, the default evaluation metric used with the objective 'binary:logistic' was changed from 'error' to 'logloss'. Explicitly set eval_metric if you'd like to restore the old behavior.\n",
      "Train Performance\n",
      "\n",
      "\n",
      "[[7923  343]\n",
      " [ 133 8125]]\n",
      "\n",
      "\n",
      "              precision    recall  f1-score   support\n",
      "\n",
      "           0       0.98      0.96      0.97      8266\n",
      "           1       0.96      0.98      0.97      8258\n",
      "\n",
      "    accuracy                           0.97     16524\n",
      "   macro avg       0.97      0.97      0.97     16524\n",
      "weighted avg       0.97      0.97      0.97     16524\n",
      "\n",
      "\n",
      "\n",
      "-----------------------------------------------------------\n",
      "Test Performance\n",
      "\n",
      "\n",
      "[[3616  450]\n",
      " [ 338 3736]]\n",
      "\n",
      "\n",
      "              precision    recall  f1-score   support\n",
      "\n",
      "           0       0.91      0.89      0.90      4066\n",
      "           1       0.89      0.92      0.90      4074\n",
      "\n",
      "    accuracy                           0.90      8140\n",
      "   macro avg       0.90      0.90      0.90      8140\n",
      "weighted avg       0.90      0.90      0.90      8140\n",
      "\n",
      "\n",
      "\n",
      "Accuracy score is: 90.32 %\n"
     ]
    },
    {
     "data": {
      "text/plain": [
       "0.9031941031941032"
      ]
     },
     "execution_count": 16,
     "metadata": {},
     "output_type": "execute_result"
    }
   ],
   "source": [
    "#Confusion matrix, and classification report of XGBClassifier model for both training and test set.\n",
    "#Model is not overfitting.\n",
    "#Accuracy score is 90.32%\n",
    "\n",
    "get_metrics(xgbc)"
   ]
  },
  {
   "cell_type": "code",
   "execution_count": 17,
   "id": "7ae7cbdc",
   "metadata": {},
   "outputs": [
    {
     "name": "stdout",
     "output_type": "stream",
     "text": [
      "Train Performance\n",
      "\n",
      "\n",
      "[[8266    0]\n",
      " [   0 8258]]\n",
      "\n",
      "\n",
      "              precision    recall  f1-score   support\n",
      "\n",
      "           0       1.00      1.00      1.00      8266\n",
      "           1       1.00      1.00      1.00      8258\n",
      "\n",
      "    accuracy                           1.00     16524\n",
      "   macro avg       1.00      1.00      1.00     16524\n",
      "weighted avg       1.00      1.00      1.00     16524\n",
      "\n",
      "\n",
      "\n",
      "-----------------------------------------------------------\n",
      "Test Performance\n",
      "\n",
      "\n",
      "[[3759  307]\n",
      " [ 349 3725]]\n",
      "\n",
      "\n",
      "              precision    recall  f1-score   support\n",
      "\n",
      "           0       0.92      0.92      0.92      4066\n",
      "           1       0.92      0.91      0.92      4074\n",
      "\n",
      "    accuracy                           0.92      8140\n",
      "   macro avg       0.92      0.92      0.92      8140\n",
      "weighted avg       0.92      0.92      0.92      8140\n",
      "\n",
      "\n",
      "\n",
      "Accuracy score is: 91.94 %\n"
     ]
    },
    {
     "data": {
      "text/plain": [
       "0.9194103194103194"
      ]
     },
     "execution_count": 17,
     "metadata": {},
     "output_type": "execute_result"
    }
   ],
   "source": [
    "#Confusion matrix, and classification report of random forest classifier model for both training and test set.\n",
    "#Model looks like it's overfitting. But for random forests, a 100% accuracy score on the training set, doesn't usually mean that the model is overfitting.\n",
    "#Accuracy score is 92.94%\n",
    "\n",
    "get_metrics(forest)"
   ]
  },
  {
   "cell_type": "code",
   "execution_count": 18,
   "id": "08da83d4",
   "metadata": {},
   "outputs": [
    {
     "name": "stdout",
     "output_type": "stream",
     "text": [
      "Train Performance\n",
      "\n",
      "\n",
      "[[7021 1245]\n",
      " [ 970 7288]]\n",
      "\n",
      "\n",
      "              precision    recall  f1-score   support\n",
      "\n",
      "           0       0.88      0.85      0.86      8266\n",
      "           1       0.85      0.88      0.87      8258\n",
      "\n",
      "    accuracy                           0.87     16524\n",
      "   macro avg       0.87      0.87      0.87     16524\n",
      "weighted avg       0.87      0.87      0.87     16524\n",
      "\n",
      "\n",
      "\n",
      "-----------------------------------------------------------\n",
      "Test Performance\n",
      "\n",
      "\n",
      "[[3101  965]\n",
      " [ 666 3408]]\n",
      "\n",
      "\n",
      "              precision    recall  f1-score   support\n",
      "\n",
      "           0       0.82      0.76      0.79      4066\n",
      "           1       0.78      0.84      0.81      4074\n",
      "\n",
      "    accuracy                           0.80      8140\n",
      "   macro avg       0.80      0.80      0.80      8140\n",
      "weighted avg       0.80      0.80      0.80      8140\n",
      "\n",
      "\n",
      "\n",
      "Accuracy score is: 79.96 %\n"
     ]
    },
    {
     "data": {
      "text/plain": [
       "0.7996314496314496"
      ]
     },
     "execution_count": 18,
     "metadata": {},
     "output_type": "execute_result"
    }
   ],
   "source": [
    "#Confusion matrix, and classification report of KNN model for both training and test set.\n",
    "\n",
    "get_metrics(knn)"
   ]
  },
  {
   "cell_type": "code",
   "execution_count": 19,
   "id": "0f4c9e4d",
   "metadata": {},
   "outputs": [
    {
     "data": {
      "text/plain": [
       "Text(0, 0.5, 'Accuracy Scores')"
      ]
     },
     "execution_count": 19,
     "metadata": {},
     "output_type": "execute_result"
    },
    {
     "data": {
      "image/png": "[encoded data removed]",
      "text/plain": [
       "<Figure size 432x288 with 1 Axes>"
      ]
     },
     "metadata": {
      "needs_background": "light"
     },
     "output_type": "display_data"
    }
   ],
   "source": [
    "#When using KNN, we must specify the n_neighbors (K-value). We will try to find the optimal K-value first\n",
    "#For KNN, a higher K-value means a simpler model. We need to find the highest K-value that would maximize our accuracy score.  \n",
    "#It seems like the best value is at around 2.\n",
    "\n",
    "k_range = range(1,31)\n",
    "k_scores = []\n",
    "\n",
    "for i in  k_range:\n",
    "    knn = KNeighborsClassifier(n_neighbors=i)\n",
    "    score = cross_val_score(knn,X,y,cv=10,scoring='accuracy')\n",
    "    k_scores.append(score.mean())\n",
    "    \n",
    "plt.plot(k_range,k_scores)\n",
    "plt.xlabel('K-Values')\n",
    "plt.ylabel('Accuracy Scores')"
   ]
  },
  {
   "cell_type": "code",
   "execution_count": 20,
   "id": "550f9879",
   "metadata": {},
   "outputs": [
    {
     "name": "stdout",
     "output_type": "stream",
     "text": [
      "Train Performance\n",
      "\n",
      "\n",
      "[[8266    0]\n",
      " [1351 6907]]\n",
      "\n",
      "\n",
      "              precision    recall  f1-score   support\n",
      "\n",
      "           0       0.86      1.00      0.92      8266\n",
      "           1       1.00      0.84      0.91      8258\n",
      "\n",
      "    accuracy                           0.92     16524\n",
      "   macro avg       0.93      0.92      0.92     16524\n",
      "weighted avg       0.93      0.92      0.92     16524\n",
      "\n",
      "\n",
      "\n",
      "-----------------------------------------------------------\n",
      "Test Performance\n",
      "\n",
      "\n",
      "[[3729  337]\n",
      " [1123 2951]]\n",
      "\n",
      "\n",
      "              precision    recall  f1-score   support\n",
      "\n",
      "           0       0.77      0.92      0.84      4066\n",
      "           1       0.90      0.72      0.80      4074\n",
      "\n",
      "    accuracy                           0.82      8140\n",
      "   macro avg       0.83      0.82      0.82      8140\n",
      "weighted avg       0.83      0.82      0.82      8140\n",
      "\n",
      "\n",
      "\n",
      "Accuracy score is: 82.06 %\n"
     ]
    },
    {
     "data": {
      "text/plain": [
       "0.8206388206388207"
      ]
     },
     "execution_count": 20,
     "metadata": {},
     "output_type": "execute_result"
    }
   ],
   "source": [
    "#If we set the k-value to 2, we improve the accuracy by approx. 2 pts\n",
    "\n",
    "knn = KNeighborsClassifier(n_neighbors=2)\n",
    "\n",
    "get_metrics(knn)"
   ]
  },
  {
   "cell_type": "code",
   "execution_count": 21,
   "id": "caa3702b",
   "metadata": {},
   "outputs": [
    {
     "name": "stdout",
     "output_type": "stream",
     "text": [
      "Average accuracy score for random forest is: 93.50 %\n",
      "\n",
      "\n",
      "Standard deviation is: 2.13 %\n"
     ]
    }
   ],
   "source": [
    "#The top two models that produced the best results are the Random Forest Classifier and XGBClassifier\n",
    "#XGBClassifier is however faster than Random Forest Classifier\n",
    "#What if we only got 'lucky' due to the random shuffling of data in the train test split?\n",
    "\n",
    "#One downside to using train test split is the fact that it is random. We may get different results for each split.\n",
    "\n",
    "#To compare the performance of our models, we will use K-folds cross-validation. Which produces K number of results which can be averaged to produce the mean result.\n",
    "\n",
    "#We will use this mean result to compare our models\n",
    "\n",
    "#Cross-validation is, however, K times slower than train test split.\n",
    "#Instead of splitting the dataset into a training and test set, we will input the whole dataset into the cross-validation.\n",
    "\n",
    "\n",
    "\n",
    "scores_forest = cross_val_score(forest,X,y, cv=10, scoring='accuracy')\n",
    "print('Average accuracy score for random forest is: {:.2f} %'.format(scores_forest.mean()*100))\n",
    "print('\\n')\n",
    "print('Standard deviation is: {:.2f} %'.format(scores_forest.std()*100))"
   ]
  },
  {
   "cell_type": "code",
   "execution_count": 22,
   "id": "078db3fb",
   "metadata": {},
   "outputs": [
    {
     "name": "stdout",
     "output_type": "stream",
     "text": [
      "[16:38:31] WARNING: C:/Users/Administrator/workspace/xgboost-win64_release_1.5.1/src/learner.cc:1115: Starting in XGBoost 1.3.0, the default evaluation metric used with the objective 'binary:logistic' was changed from 'error' to 'logloss'. Explicitly set eval_metric if you'd like to restore the old behavior.\n",
      "[16:38:32] WARNING: C:/Users/Administrator/workspace/xgboost-win64_release_1.5.1/src/learner.cc:1115: Starting in XGBoost 1.3.0, the default evaluation metric used with the objective 'binary:logistic' was changed from 'error' to 'logloss'. Explicitly set eval_metric if you'd like to restore the old behavior.\n",
      "[16:38:32] WARNING: C:/Users/Administrator/workspace/xgboost-win64_release_1.5.1/src/learner.cc:1115: Starting in XGBoost 1.3.0, the default evaluation metric used with the objective 'binary:logistic' was changed from 'error' to 'logloss'. Explicitly set eval_metric if you'd like to restore the old behavior.\n",
      "[16:38:33] WARNING: C:/Users/Administrator/workspace/xgboost-win64_release_1.5.1/src/learner.cc:1115: Starting in XGBoost 1.3.0, the default evaluation metric used with the objective 'binary:logistic' was changed from 'error' to 'logloss'. Explicitly set eval_metric if you'd like to restore the old behavior.\n",
      "[16:38:34] WARNING: C:/Users/Administrator/workspace/xgboost-win64_release_1.5.1/src/learner.cc:1115: Starting in XGBoost 1.3.0, the default evaluation metric used with the objective 'binary:logistic' was changed from 'error' to 'logloss'. Explicitly set eval_metric if you'd like to restore the old behavior.\n",
      "[16:38:34] WARNING: C:/Users/Administrator/workspace/xgboost-win64_release_1.5.1/src/learner.cc:1115: Starting in XGBoost 1.3.0, the default evaluation metric used with the objective 'binary:logistic' was changed from 'error' to 'logloss'. Explicitly set eval_metric if you'd like to restore the old behavior.\n",
      "[16:38:35] WARNING: C:/Users/Administrator/workspace/xgboost-win64_release_1.5.1/src/learner.cc:1115: Starting in XGBoost 1.3.0, the default evaluation metric used with the objective 'binary:logistic' was changed from 'error' to 'logloss'. Explicitly set eval_metric if you'd like to restore the old behavior.\n",
      "[16:38:36] WARNING: C:/Users/Administrator/workspace/xgboost-win64_release_1.5.1/src/learner.cc:1115: Starting in XGBoost 1.3.0, the default evaluation metric used with the objective 'binary:logistic' was changed from 'error' to 'logloss'. Explicitly set eval_metric if you'd like to restore the old behavior.\n",
      "[16:38:36] WARNING: C:/Users/Administrator/workspace/xgboost-win64_release_1.5.1/src/learner.cc:1115: Starting in XGBoost 1.3.0, the default evaluation metric used with the objective 'binary:logistic' was changed from 'error' to 'logloss'. Explicitly set eval_metric if you'd like to restore the old behavior.\n",
      "[16:38:37] WARNING: C:/Users/Administrator/workspace/xgboost-win64_release_1.5.1/src/learner.cc:1115: Starting in XGBoost 1.3.0, the default evaluation metric used with the objective 'binary:logistic' was changed from 'error' to 'logloss'. Explicitly set eval_metric if you'd like to restore the old behavior.\n",
      "Average accuracy score for XGBClassifier is: 90.96 %\n",
      "\n",
      "\n",
      "standard deviation is: 1.40 %\n"
     ]
    }
   ],
   "source": [
    "scores_xgbc = cross_val_score(XGBClassifier(use_label_encoder=False), X,y, cv=10, scoring='accuracy') \n",
    "print('Average accuracy score for XGBClassifier is: {:.2f} %'.format(scores_xgbc.mean()*100))\n",
    "print('\\n')\n",
    "print('standard deviation is: {:.2f} %'.format(scores_xgbc.std()*100))"
   ]
  },
  {
   "cell_type": "code",
   "execution_count": 24,
   "id": "012803de",
   "metadata": {},
   "outputs": [],
   "source": [
    "#We can clearly see that in terms of accurately predicting the classes of the samples, random forest classifier gives better results.\n",
    "\n",
    "#However, there are instances where we want to know the preformance of a  model to predict the probability of each sample belonging to a class. This is where ROC AUC comes in.\n",
    "\n",
    "from sklearn.metrics import roc_curve\n",
    "from sklearn.metrics import roc_auc_score"
   ]
  },
  {
   "cell_type": "code",
   "execution_count": 47,
   "id": "97f4d9a2",
   "metadata": {},
   "outputs": [
    {
     "name": "stdout",
     "output_type": "stream",
     "text": [
      "[17:51:26] WARNING: C:/Users/Administrator/workspace/xgboost-win64_release_1.5.1/src/learner.cc:1115: Starting in XGBoost 1.3.0, the default evaluation metric used with the objective 'binary:logistic' was changed from 'error' to 'logloss'. Explicitly set eval_metric if you'd like to restore the old behavior.\n",
      "XGBClassifier Prediction AUC: 0.961\n"
     ]
    }
   ],
   "source": [
    "#For XGBClassifier\n",
    "#The ROC AUC is 0.961 which is good\n",
    "\n",
    "\n",
    "xgbc = XGBClassifier()\n",
    "\n",
    "xgbc.fit(X_train,y_train)\n",
    "xgbc_probs = xgbc.predict_proba(X_test)\n",
    "xgbc_probs = xgbc_probs[:,1]\n",
    "xgbc_auc = roc_auc_score(y_test,xgbc_probs)\n",
    "\n",
    "print('XGBClassifier Prediction AUC: {:.3f}'.format(xgbc1_auc))"
   ]
  },
  {
   "cell_type": "code",
   "execution_count": 53,
   "id": "0107531b",
   "metadata": {},
   "outputs": [
    {
     "name": "stdout",
     "output_type": "stream",
     "text": [
      "Random Forest Classifier Prediction AUC: 0.970\n"
     ]
    }
   ],
   "source": [
    "#For Random Forest Classifier\n",
    "#The ROC AUC is 0.970 which is even better than the ROC AUC of XGBClassifier\n",
    "\n",
    "rf = RandomForestClassifier()\n",
    "\n",
    "rf.fit(X_train,y_train)\n",
    "rf_probs = rf.predict_proba(X_test)\n",
    "rf_probs = rf_probs[:,1]\n",
    "rf_auc = roc_auc_score(y_test,rf_probs)\n",
    "\n",
    "print('Random Forest Classifier Prediction AUC: {:.3f}'.format(rf_auc))"
   ]
  },
  {
   "cell_type": "code",
   "execution_count": 56,
   "id": "2fe33a20",
   "metadata": {},
   "outputs": [
    {
     "data": {
      "text/plain": [
       "<matplotlib.legend.Legend at 0x2b233b79d00>"
      ]
     },
     "execution_count": 56,
     "metadata": {},
     "output_type": "execute_result"
    },
    {
     "data": {
      "image/png": "[encoded data removed]",
      "text/plain": [
       "<Figure size 720x720 with 1 Axes>"
      ]
     },
     "metadata": {
      "needs_background": "light"
     },
     "output_type": "display_data"
    }
   ],
   "source": [
    "#We plot the ROC of the models\n",
    "#We can see that the \n",
    "\n",
    "r_probs = [0 for _ in range(len(y_test))] #This is just for the random prediction\n",
    "r_auc = roc_auc_score(y_test,r_probs)\n",
    "r_fpr,r_tpr,_ = roc_curve(y_test,r_probs)\n",
    "\n",
    "rf_fpr,rf_tpr,_ = roc_curve(y_test,rf_probs)\n",
    "x_fpr, x_tpr,_ = roc_curve(y_test,xgbc_probs)\n",
    "\n",
    "plt.figure(figsize=(10,10))\n",
    "\n",
    "plt.plot(x_fpr,x_tpr,label='XGBClassifer ROC')\n",
    "plt.plot(rf_fpr,rf_tpr,label='Random Forest Classifier ROC')\n",
    "plt.plot(r_fpr,r_tpr,linestyle='--',label='Random')\n",
    "\n",
    "plt.title('ROC Plot')\n",
    "plt.xlabel('False Positivity Rate')\n",
    "plt.ylabel('True Positivity Rate')\n",
    "plt.legend()"
   ]
  },
  {
   "cell_type": "markdown",
   "id": "ea94e0f0",
   "metadata": {},
   "source": [
    "<h2>Conclusion</h2>\n",
    "<p>In terms of accurately predicting the actual class and the probability of the class of the sample, Random Forest Classifier is the winner!</p>"
   ]
  },
  {
   "cell_type": "code",
   "execution_count": null,
   "id": "c39fce52",
   "metadata": {},
   "outputs": [],
   "source": []
  }
 ],
 "metadata": {
  "kernelspec": {
   "display_name": "Python 3 (ipykernel)",
   "language": "python",
   "name": "python3"
  },
  "language_info": {
   "codemirror_mode": {
    "name": "ipython",
    "version": 3
   },
   "file_extension": ".py",
   "mimetype": "text/x-python",
   "name": "python",
   "nbconvert_exporter": "python",
   "pygments_lexer": "ipython3",
   "version": "3.9.7"
  }
 },
 "nbformat": 4,
 "nbformat_minor": 5
}
