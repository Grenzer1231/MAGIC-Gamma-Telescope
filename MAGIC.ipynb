{
 "cells": [
  {
   "cell_type": "markdown",
   "id": "e6f606d1",
   "metadata": {},
   "source": [
    "<h1><b>Magic Gamma Telescope Dataset</b></h1>\n",
    "<p>In this notebook, we are going to determine which model can predict whether a signal is a gamma signal or a background signal.</p>\n"
   ]
  },
  {
   "cell_type": "code",
   "execution_count": 1,
   "id": "0807275a",
   "metadata": {},
   "outputs": [],
   "source": [
    "#Data manipulation \n",
    "import numpy as np\n",
    "import pandas as pd \n",
    "\n",
    "#Data Visualization\n",
    "import matplotlib.pyplot as plt\n",
    "import seaborn as sns\n",
    "from plotnine import *\n",
    "\n",
    "#Statistics\n",
    "from scipy import stats\n",
    "from scipy.stats import norm \n",
    "\n",
    "#Machine Learning\n",
    "from sklearn.model_selection import cross_val_score\n",
    "\n",
    "\n",
    "import warnings\n",
    "warnings.filterwarnings('ignore')"
   ]
  },
  {
   "cell_type": "code",
   "execution_count": 2,
   "id": "b5ce0ecc",
   "metadata": {},
   "outputs": [],
   "source": [
    "raw_data_csv = pd.read_csv(\"magic04.csv\")\n",
    "\n",
    "df = raw_data_csv.copy()"
   ]
  },
  {
   "cell_type": "code",
   "execution_count": 3,
   "id": "30052ea0",
   "metadata": {},
   "outputs": [
    {
     "data": {
      "text/html": [
       "<div>\n",
       "<style scoped>\n",
       "    .dataframe tbody tr th:only-of-type {\n",
       "        vertical-align: middle;\n",
       "    }\n",
       "\n",
       "    .dataframe tbody tr th {\n",
       "        vertical-align: top;\n",
       "    }\n",
       "\n",
       "    .dataframe thead th {\n",
       "        text-align: right;\n",
       "    }\n",
       "</style>\n",
       "<table border=\"1\" class=\"dataframe\">\n",
       "  <thead>\n",
       "    <tr style=\"text-align: right;\">\n",
       "      <th></th>\n",
       "      <th>length</th>\n",
       "      <th>width</th>\n",
       "      <th>size</th>\n",
       "      <th>conc</th>\n",
       "      <th>conc1</th>\n",
       "      <th>asym</th>\n",
       "      <th>m3long</th>\n",
       "      <th>m3trans</th>\n",
       "      <th>alpha</th>\n",
       "      <th>dist</th>\n",
       "      <th>class</th>\n",
       "    </tr>\n",
       "  </thead>\n",
       "  <tbody>\n",
       "    <tr>\n",
       "      <th>0</th>\n",
       "      <td>28.7967</td>\n",
       "      <td>16.0021</td>\n",
       "      <td>2.6449</td>\n",
       "      <td>0.3918</td>\n",
       "      <td>0.1982</td>\n",
       "      <td>27.7004</td>\n",
       "      <td>22.0110</td>\n",
       "      <td>-8.2027</td>\n",
       "      <td>40.0920</td>\n",
       "      <td>81.8828</td>\n",
       "      <td>g</td>\n",
       "    </tr>\n",
       "    <tr>\n",
       "      <th>1</th>\n",
       "      <td>31.6036</td>\n",
       "      <td>11.7235</td>\n",
       "      <td>2.5185</td>\n",
       "      <td>0.5303</td>\n",
       "      <td>0.3773</td>\n",
       "      <td>26.2722</td>\n",
       "      <td>23.8238</td>\n",
       "      <td>-9.9574</td>\n",
       "      <td>6.3609</td>\n",
       "      <td>205.2610</td>\n",
       "      <td>g</td>\n",
       "    </tr>\n",
       "    <tr>\n",
       "      <th>2</th>\n",
       "      <td>162.0520</td>\n",
       "      <td>136.0310</td>\n",
       "      <td>4.0612</td>\n",
       "      <td>0.0374</td>\n",
       "      <td>0.0187</td>\n",
       "      <td>116.7410</td>\n",
       "      <td>-64.8580</td>\n",
       "      <td>-45.2160</td>\n",
       "      <td>76.9600</td>\n",
       "      <td>256.7880</td>\n",
       "      <td>g</td>\n",
       "    </tr>\n",
       "    <tr>\n",
       "      <th>3</th>\n",
       "      <td>23.8172</td>\n",
       "      <td>9.5728</td>\n",
       "      <td>2.3385</td>\n",
       "      <td>0.6147</td>\n",
       "      <td>0.3922</td>\n",
       "      <td>27.2107</td>\n",
       "      <td>-6.4633</td>\n",
       "      <td>-7.1513</td>\n",
       "      <td>10.4490</td>\n",
       "      <td>116.7370</td>\n",
       "      <td>g</td>\n",
       "    </tr>\n",
       "    <tr>\n",
       "      <th>4</th>\n",
       "      <td>75.1362</td>\n",
       "      <td>30.9205</td>\n",
       "      <td>3.1611</td>\n",
       "      <td>0.3168</td>\n",
       "      <td>0.1832</td>\n",
       "      <td>-5.5277</td>\n",
       "      <td>28.5525</td>\n",
       "      <td>21.8393</td>\n",
       "      <td>4.6480</td>\n",
       "      <td>356.4620</td>\n",
       "      <td>g</td>\n",
       "    </tr>\n",
       "  </tbody>\n",
       "</table>\n",
       "</div>"
      ],
      "text/plain": [
       "     length     width    size    conc   conc1      asym   m3long  m3trans  \\\n",
       "0   28.7967   16.0021  2.6449  0.3918  0.1982   27.7004  22.0110  -8.2027   \n",
       "1   31.6036   11.7235  2.5185  0.5303  0.3773   26.2722  23.8238  -9.9574   \n",
       "2  162.0520  136.0310  4.0612  0.0374  0.0187  116.7410 -64.8580 -45.2160   \n",
       "3   23.8172    9.5728  2.3385  0.6147  0.3922   27.2107  -6.4633  -7.1513   \n",
       "4   75.1362   30.9205  3.1611  0.3168  0.1832   -5.5277  28.5525  21.8393   \n",
       "\n",
       "     alpha      dist class  \n",
       "0  40.0920   81.8828     g  \n",
       "1   6.3609  205.2610     g  \n",
       "2  76.9600  256.7880     g  \n",
       "3  10.4490  116.7370     g  \n",
       "4   4.6480  356.4620     g  "
      ]
     },
     "execution_count": 3,
     "metadata": {},
     "output_type": "execute_result"
    }
   ],
   "source": [
    "df.head(5)"
   ]
  },
  {
   "cell_type": "code",
   "execution_count": 4,
   "id": "7107be38",
   "metadata": {},
   "outputs": [
    {
     "name": "stdout",
     "output_type": "stream",
     "text": [
      "<class 'pandas.core.frame.DataFrame'>\n",
      "RangeIndex: 19020 entries, 0 to 19019\n",
      "Data columns (total 11 columns):\n",
      " #   Column   Non-Null Count  Dtype  \n",
      "---  ------   --------------  -----  \n",
      " 0   length   19020 non-null  float64\n",
      " 1   width    19020 non-null  float64\n",
      " 2   size     19020 non-null  float64\n",
      " 3   conc     19020 non-null  float64\n",
      " 4   conc1    19020 non-null  float64\n",
      " 5   asym     19020 non-null  float64\n",
      " 6   m3long   19020 non-null  float64\n",
      " 7   m3trans  19020 non-null  float64\n",
      " 8   alpha    19020 non-null  float64\n",
      " 9   dist     19020 non-null  float64\n",
      " 10  class    19020 non-null  object \n",
      "dtypes: float64(10), object(1)\n",
      "memory usage: 1.6+ MB\n"
     ]
    }
   ],
   "source": [
    "df.info()"
   ]
  },
  {
   "cell_type": "code",
   "execution_count": 5,
   "id": "31f0265a",
   "metadata": {},
   "outputs": [
    {
     "data": {
      "text/html": [
       "<div>\n",
       "<style scoped>\n",
       "    .dataframe tbody tr th:only-of-type {\n",
       "        vertical-align: middle;\n",
       "    }\n",
       "\n",
       "    .dataframe tbody tr th {\n",
       "        vertical-align: top;\n",
       "    }\n",
       "\n",
       "    .dataframe thead th {\n",
       "        text-align: right;\n",
       "    }\n",
       "</style>\n",
       "<table border=\"1\" class=\"dataframe\">\n",
       "  <thead>\n",
       "    <tr style=\"text-align: right;\">\n",
       "      <th></th>\n",
       "      <th>count</th>\n",
       "      <th>mean</th>\n",
       "      <th>std</th>\n",
       "      <th>min</th>\n",
       "      <th>25%</th>\n",
       "      <th>50%</th>\n",
       "      <th>75%</th>\n",
       "      <th>max</th>\n",
       "    </tr>\n",
       "  </thead>\n",
       "  <tbody>\n",
       "    <tr>\n",
       "      <th>length</th>\n",
       "      <td>19020.0</td>\n",
       "      <td>53.250154</td>\n",
       "      <td>42.364855</td>\n",
       "      <td>4.2835</td>\n",
       "      <td>24.336000</td>\n",
       "      <td>37.14770</td>\n",
       "      <td>70.122175</td>\n",
       "      <td>334.1770</td>\n",
       "    </tr>\n",
       "    <tr>\n",
       "      <th>width</th>\n",
       "      <td>19020.0</td>\n",
       "      <td>22.180966</td>\n",
       "      <td>18.346056</td>\n",
       "      <td>0.0000</td>\n",
       "      <td>11.863800</td>\n",
       "      <td>17.13990</td>\n",
       "      <td>24.739475</td>\n",
       "      <td>256.3820</td>\n",
       "    </tr>\n",
       "    <tr>\n",
       "      <th>size</th>\n",
       "      <td>19020.0</td>\n",
       "      <td>2.825017</td>\n",
       "      <td>0.472599</td>\n",
       "      <td>1.9413</td>\n",
       "      <td>2.477100</td>\n",
       "      <td>2.73960</td>\n",
       "      <td>3.101600</td>\n",
       "      <td>5.3233</td>\n",
       "    </tr>\n",
       "    <tr>\n",
       "      <th>conc</th>\n",
       "      <td>19020.0</td>\n",
       "      <td>0.380327</td>\n",
       "      <td>0.182813</td>\n",
       "      <td>0.0131</td>\n",
       "      <td>0.235800</td>\n",
       "      <td>0.35415</td>\n",
       "      <td>0.503700</td>\n",
       "      <td>0.8930</td>\n",
       "    </tr>\n",
       "    <tr>\n",
       "      <th>conc1</th>\n",
       "      <td>19020.0</td>\n",
       "      <td>0.214657</td>\n",
       "      <td>0.110511</td>\n",
       "      <td>0.0003</td>\n",
       "      <td>0.128475</td>\n",
       "      <td>0.19650</td>\n",
       "      <td>0.285225</td>\n",
       "      <td>0.6752</td>\n",
       "    </tr>\n",
       "    <tr>\n",
       "      <th>asym</th>\n",
       "      <td>19020.0</td>\n",
       "      <td>-4.331745</td>\n",
       "      <td>59.206062</td>\n",
       "      <td>-457.9161</td>\n",
       "      <td>-20.586550</td>\n",
       "      <td>4.01305</td>\n",
       "      <td>24.063700</td>\n",
       "      <td>575.2407</td>\n",
       "    </tr>\n",
       "    <tr>\n",
       "      <th>m3long</th>\n",
       "      <td>19020.0</td>\n",
       "      <td>10.545545</td>\n",
       "      <td>51.000118</td>\n",
       "      <td>-331.7800</td>\n",
       "      <td>-12.842775</td>\n",
       "      <td>15.31410</td>\n",
       "      <td>35.837800</td>\n",
       "      <td>238.3210</td>\n",
       "    </tr>\n",
       "    <tr>\n",
       "      <th>m3trans</th>\n",
       "      <td>19020.0</td>\n",
       "      <td>0.249726</td>\n",
       "      <td>20.827439</td>\n",
       "      <td>-205.8947</td>\n",
       "      <td>-10.849375</td>\n",
       "      <td>0.66620</td>\n",
       "      <td>10.946425</td>\n",
       "      <td>179.8510</td>\n",
       "    </tr>\n",
       "    <tr>\n",
       "      <th>alpha</th>\n",
       "      <td>19020.0</td>\n",
       "      <td>27.645707</td>\n",
       "      <td>26.103621</td>\n",
       "      <td>0.0000</td>\n",
       "      <td>5.547925</td>\n",
       "      <td>17.67950</td>\n",
       "      <td>45.883550</td>\n",
       "      <td>90.0000</td>\n",
       "    </tr>\n",
       "    <tr>\n",
       "      <th>dist</th>\n",
       "      <td>19020.0</td>\n",
       "      <td>193.818026</td>\n",
       "      <td>74.731787</td>\n",
       "      <td>1.2826</td>\n",
       "      <td>142.492250</td>\n",
       "      <td>191.85145</td>\n",
       "      <td>240.563825</td>\n",
       "      <td>495.5610</td>\n",
       "    </tr>\n",
       "  </tbody>\n",
       "</table>\n",
       "</div>"
      ],
      "text/plain": [
       "           count        mean        std       min         25%        50%  \\\n",
       "length   19020.0   53.250154  42.364855    4.2835   24.336000   37.14770   \n",
       "width    19020.0   22.180966  18.346056    0.0000   11.863800   17.13990   \n",
       "size     19020.0    2.825017   0.472599    1.9413    2.477100    2.73960   \n",
       "conc     19020.0    0.380327   0.182813    0.0131    0.235800    0.35415   \n",
       "conc1    19020.0    0.214657   0.110511    0.0003    0.128475    0.19650   \n",
       "asym     19020.0   -4.331745  59.206062 -457.9161  -20.586550    4.01305   \n",
       "m3long   19020.0   10.545545  51.000118 -331.7800  -12.842775   15.31410   \n",
       "m3trans  19020.0    0.249726  20.827439 -205.8947  -10.849375    0.66620   \n",
       "alpha    19020.0   27.645707  26.103621    0.0000    5.547925   17.67950   \n",
       "dist     19020.0  193.818026  74.731787    1.2826  142.492250  191.85145   \n",
       "\n",
       "                75%       max  \n",
       "length    70.122175  334.1770  \n",
       "width     24.739475  256.3820  \n",
       "size       3.101600    5.3233  \n",
       "conc       0.503700    0.8930  \n",
       "conc1      0.285225    0.6752  \n",
       "asym      24.063700  575.2407  \n",
       "m3long    35.837800  238.3210  \n",
       "m3trans   10.946425  179.8510  \n",
       "alpha     45.883550   90.0000  \n",
       "dist     240.563825  495.5610  "
      ]
     },
     "execution_count": 5,
     "metadata": {},
     "output_type": "execute_result"
    }
   ],
   "source": [
    "#The values of each feature are of different scales. We will have to standardize these before feeding the data into our model.\n",
    "\n",
    "df.describe().transpose()"
   ]
  },
  {
   "cell_type": "code",
   "execution_count": 6,
   "id": "c8358931",
   "metadata": {},
   "outputs": [
    {
     "data": {
      "text/plain": [
       "1    12332\n",
       "0     6688\n",
       "Name: class, dtype: int64"
      ]
     },
     "execution_count": 6,
     "metadata": {},
     "output_type": "execute_result"
    }
   ],
   "source": [
    "#Replacing 'g' with 1 and '1' with 0\n",
    "#We can also see that our dataset is imbalanced. This will affect our classification model. For now we will the dataset as it is.\n",
    "\n",
    "df['class'] = df['class'].map({'g': 1,'h': 0})\n",
    "\n",
    "df['class'].value_counts()"
   ]
  },
  {
   "cell_type": "code",
   "execution_count": 7,
   "id": "816ff327",
   "metadata": {},
   "outputs": [
    {
     "data": {
      "text/plain": [
       "length    -0.307572\n",
       "width     -0.265596\n",
       "size      -0.117795\n",
       "conc       0.024615\n",
       "conc1      0.004797\n",
       "asym       0.173587\n",
       "m3long     0.193409\n",
       "m3trans   -0.003837\n",
       "alpha     -0.460979\n",
       "dist      -0.065203\n",
       "class      1.000000\n",
       "Name: class, dtype: float64"
      ]
     },
     "execution_count": 7,
     "metadata": {},
     "output_type": "execute_result"
    }
   ],
   "source": [
    "#Correlation of different features with class\n",
    "\n",
    "corrmap = df.corr()\n",
    "\n",
    "corrmap['class']\n",
    "\n",
    "#Features that show strong correlation with class are length and width"
   ]
  },
  {
   "cell_type": "code",
   "execution_count": 8,
   "id": "f4cae004",
   "metadata": {},
   "outputs": [
    {
     "data": {
      "text/plain": [
       "<AxesSubplot:>"
      ]
     },
     "execution_count": 8,
     "metadata": {},
     "output_type": "execute_result"
    },
    {
     "data": {
      "image/png": "[encoded data removed]",
      "text/plain": [
       "<Figure size 1080x720 with 2 Axes>"
      ]
     },
     "metadata": {
      "needs_background": "light"
     },
     "output_type": "display_data"
    }
   ],
   "source": [
    "#It seems that some features are highly correlated with one another. It will cause a problem if we are doing linear regression, but since this is a classification problem, multicollinearity will not be an issue. \n",
    "\n",
    "plt.figure(figsize=(15,10))\n",
    "sns.heatmap(corrmap)"
   ]
  },
  {
   "cell_type": "code",
   "execution_count": 9,
   "id": "15b9c223",
   "metadata": {},
   "outputs": [
    {
     "data": {
      "image/png": "[encoded data removed]",
      "text/plain": [
       "<Figure size 1440x1080 with 12 Axes>"
      ]
     },
     "metadata": {
      "needs_background": "light"
     },
     "output_type": "display_data"
    }
   ],
   "source": [
    "#We can also check the distribution of the values within our features\n",
    "\n",
    "\n",
    "df.drop('class', axis=1).hist(bins=50,figsize=(20,15));"
   ]
  },
  {
   "cell_type": "code",
   "execution_count": 10,
   "id": "964a2225",
   "metadata": {},
   "outputs": [],
   "source": [
    "#Now we need to separate our dataset into a training set and a test set. From this point, we will only look at the training set.\n",
    "\n",
    "from sklearn.model_selection import train_test_split\n",
    "\n",
    "X = df.drop('class', axis=1)\n",
    "y = df['class']\n",
    "\n",
    "\n",
    "X_train, X_test, y_train, y_test = train_test_split(X, y, test_size=0.33, random_state=42)"
   ]
  },
  {
   "cell_type": "code",
   "execution_count": 11,
   "id": "4a4373ad",
   "metadata": {},
   "outputs": [
    {
     "data": {
      "text/plain": [
       "array([[-0.12706339, -0.60654378,  0.27473973, ..., -0.11849846,\n",
       "        -0.02749297, -0.38867022],\n",
       "       [-0.705253  , -1.20932657, -1.24138369, ..., -0.00845755,\n",
       "        -0.31705749,  0.54834957],\n",
       "       [-0.30388402, -0.15410598,  1.07969186, ..., -0.34942023,\n",
       "        -0.67101758,  0.01729864],\n",
       "       ...,\n",
       "       [-0.23992231, -0.47022141, -0.6132211 , ..., -0.68312278,\n",
       "        -0.16983326,  0.05433015],\n",
       "       [-0.60217352,  0.05546138, -0.06954575, ...,  0.73263999,\n",
       "         2.282426  , -0.17289027],\n",
       "       [-0.57513887, -0.08197018,  0.26417883, ..., -0.86185013,\n",
       "         0.15817324, -0.53671074]])"
      ]
     },
     "execution_count": 11,
     "metadata": {},
     "output_type": "execute_result"
    }
   ],
   "source": [
    "#We mentioned earlier that we will have to scale the values of our features\n",
    "\n",
    "from sklearn.preprocessing import StandardScaler\n",
    "\n",
    "scaler = StandardScaler()\n",
    "\n",
    "scaler.fit_transform(X_train)\n",
    "\n",
    "scaler.transform(X_test) #We do not fit the test set to avoid data leakage\n"
   ]
  },
  {
   "cell_type": "markdown",
   "id": "a8abdb5d",
   "metadata": {},
   "source": [
    "<h2>Metrics without balancing the dataset</h2>\n",
    "<p>We will use our imbalanced dataset to choose the best classifier for our model</p>"
   ]
  },
  {
   "cell_type": "code",
   "execution_count": 12,
   "id": "5ab03f8f",
   "metadata": {},
   "outputs": [],
   "source": [
    "#Machine learning\n",
    "#We won't use GridSearchCV on SVC because of slow performance\n",
    "\n",
    "from sklearn.linear_model import LogisticRegression\n",
    "from xgboost import XGBClassifier\n",
    "from sklearn.neighbors import KNeighborsClassifier\n",
    "from sklearn.ensemble import RandomForestClassifier\n",
    "from sklearn.metrics import classification_report,confusion_matrix, accuracy_score #determine the performance of models\n",
    "from sklearn.metrics import roc_curve\n",
    "from sklearn.metrics import roc_auc_score\n",
    "from sklearn.model_selection import cross_val_score #used to compare performance of models\n"
   ]
  },
  {
   "cell_type": "code",
   "execution_count": 13,
   "id": "0fd02684",
   "metadata": {},
   "outputs": [],
   "source": [
    "#We define a function that would fit and train the data to our model\n",
    "\n",
    "xgbc = XGBClassifier()\n",
    "forest = RandomForestClassifier()\n",
    "knn= KNeighborsClassifier()\n",
    "log = LogisticRegression()\n",
    "\n",
    "def get_metrics(model):\n",
    "    model.fit(X_train,y_train)\n",
    "    preds = model.predict(X_test)\n",
    "    train_preds = model.predict(X_train)\n",
    "    \n",
    "    print('Train Performance')\n",
    "    print('\\n')\n",
    "    print(confusion_matrix(y_train,train_preds))\n",
    "    print('\\n')\n",
    "    print(classification_report(y_train,train_preds))\n",
    "    print('\\n')\n",
    "    print('-----------------------------------------------------------')\n",
    "    print('Test Performance')\n",
    "    print('\\n')\n",
    "    print(confusion_matrix(y_test,preds))\n",
    "    print('\\n')\n",
    "    print(classification_report(y_test,preds))\n",
    "    print('\\n')\n",
    "    print('Accuracy score is: {:.2f} %'.format(accuracy_score(y_test,preds)*100))\n",
    "    \n"
   ]
  },
  {
   "cell_type": "code",
   "execution_count": 14,
   "id": "5e71c1cd",
   "metadata": {},
   "outputs": [
    {
     "name": "stdout",
     "output_type": "stream",
     "text": [
      "Train Performance\n",
      "\n",
      "\n",
      "[[2645 1837]\n",
      " [ 831 7430]]\n",
      "\n",
      "\n",
      "              precision    recall  f1-score   support\n",
      "\n",
      "           0       0.76      0.59      0.66      4482\n",
      "           1       0.80      0.90      0.85      8261\n",
      "\n",
      "    accuracy                           0.79     12743\n",
      "   macro avg       0.78      0.74      0.76     12743\n",
      "weighted avg       0.79      0.79      0.78     12743\n",
      "\n",
      "\n",
      "\n",
      "-----------------------------------------------------------\n",
      "Test Performance\n",
      "\n",
      "\n",
      "[[1289  917]\n",
      " [ 410 3661]]\n",
      "\n",
      "\n",
      "              precision    recall  f1-score   support\n",
      "\n",
      "           0       0.76      0.58      0.66      2206\n",
      "           1       0.80      0.90      0.85      4071\n",
      "\n",
      "    accuracy                           0.79      6277\n",
      "   macro avg       0.78      0.74      0.75      6277\n",
      "weighted avg       0.79      0.79      0.78      6277\n",
      "\n",
      "\n",
      "\n",
      "Accuracy score is: 78.86 %\n"
     ]
    }
   ],
   "source": [
    "#Confusion matrix, and classification report of logistic regression model for both training and test set.\n",
    "#Model is not overfitting.\n",
    "#Accuracy score is 77.16%\n",
    "\n",
    "get_metrics(log)"
   ]
  },
  {
   "cell_type": "code",
   "execution_count": 15,
   "id": "31f87cf9",
   "metadata": {},
   "outputs": [
    {
     "name": "stdout",
     "output_type": "stream",
     "text": [
      "[23:32:44] WARNING: C:/Users/Administrator/workspace/xgboost-win64_release_1.5.1/src/learner.cc:1115: Starting in XGBoost 1.3.0, the default evaluation metric used with the objective 'binary:logistic' was changed from 'error' to 'logloss'. Explicitly set eval_metric if you'd like to restore the old behavior.\n",
      "Train Performance\n",
      "\n",
      "\n",
      "[[4173  309]\n",
      " [  54 8207]]\n",
      "\n",
      "\n",
      "              precision    recall  f1-score   support\n",
      "\n",
      "           0       0.99      0.93      0.96      4482\n",
      "           1       0.96      0.99      0.98      8261\n",
      "\n",
      "    accuracy                           0.97     12743\n",
      "   macro avg       0.98      0.96      0.97     12743\n",
      "weighted avg       0.97      0.97      0.97     12743\n",
      "\n",
      "\n",
      "\n",
      "-----------------------------------------------------------\n",
      "Test Performance\n",
      "\n",
      "\n",
      "[[1705  501]\n",
      " [ 236 3835]]\n",
      "\n",
      "\n",
      "              precision    recall  f1-score   support\n",
      "\n",
      "           0       0.88      0.77      0.82      2206\n",
      "           1       0.88      0.94      0.91      4071\n",
      "\n",
      "    accuracy                           0.88      6277\n",
      "   macro avg       0.88      0.86      0.87      6277\n",
      "weighted avg       0.88      0.88      0.88      6277\n",
      "\n",
      "\n",
      "\n",
      "Accuracy score is: 88.26 %\n"
     ]
    }
   ],
   "source": [
    "#Confusion matrix, and classification report of XGBClassifier model for both training and test set.\n",
    "#Model is not overfitting.\n",
    "#Accuracy score is 90.32%\n",
    "\n",
    "get_metrics(xgbc)"
   ]
  },
  {
   "cell_type": "code",
   "execution_count": 16,
   "id": "7ae7cbdc",
   "metadata": {},
   "outputs": [
    {
     "name": "stdout",
     "output_type": "stream",
     "text": [
      "Train Performance\n",
      "\n",
      "\n",
      "[[4482    0]\n",
      " [   0 8261]]\n",
      "\n",
      "\n",
      "              precision    recall  f1-score   support\n",
      "\n",
      "           0       1.00      1.00      1.00      4482\n",
      "           1       1.00      1.00      1.00      8261\n",
      "\n",
      "    accuracy                           1.00     12743\n",
      "   macro avg       1.00      1.00      1.00     12743\n",
      "weighted avg       1.00      1.00      1.00     12743\n",
      "\n",
      "\n",
      "\n",
      "-----------------------------------------------------------\n",
      "Test Performance\n",
      "\n",
      "\n",
      "[[1678  528]\n",
      " [ 248 3823]]\n",
      "\n",
      "\n",
      "              precision    recall  f1-score   support\n",
      "\n",
      "           0       0.87      0.76      0.81      2206\n",
      "           1       0.88      0.94      0.91      4071\n",
      "\n",
      "    accuracy                           0.88      6277\n",
      "   macro avg       0.87      0.85      0.86      6277\n",
      "weighted avg       0.88      0.88      0.87      6277\n",
      "\n",
      "\n",
      "\n",
      "Accuracy score is: 87.64 %\n"
     ]
    }
   ],
   "source": [
    "#Confusion matrix, and classification report of random forest classifier model for both training and test set.\n",
    "#Model looks like it's overfitting. But for random forests, a 100% accuracy score on the training set, doesn't usually mean that the model is overfitting.\n",
    "#Accuracy score is 92.94%\n",
    "\n",
    "get_metrics(forest)"
   ]
  },
  {
   "cell_type": "code",
   "execution_count": 17,
   "id": "08da83d4",
   "metadata": {},
   "outputs": [
    {
     "name": "stdout",
     "output_type": "stream",
     "text": [
      "Train Performance\n",
      "\n",
      "\n",
      "[[3059 1423]\n",
      " [ 398 7863]]\n",
      "\n",
      "\n",
      "              precision    recall  f1-score   support\n",
      "\n",
      "           0       0.88      0.68      0.77      4482\n",
      "           1       0.85      0.95      0.90      8261\n",
      "\n",
      "    accuracy                           0.86     12743\n",
      "   macro avg       0.87      0.82      0.83     12743\n",
      "weighted avg       0.86      0.86      0.85     12743\n",
      "\n",
      "\n",
      "\n",
      "-----------------------------------------------------------\n",
      "Test Performance\n",
      "\n",
      "\n",
      "[[1295  911]\n",
      " [ 298 3773]]\n",
      "\n",
      "\n",
      "              precision    recall  f1-score   support\n",
      "\n",
      "           0       0.81      0.59      0.68      2206\n",
      "           1       0.81      0.93      0.86      4071\n",
      "\n",
      "    accuracy                           0.81      6277\n",
      "   macro avg       0.81      0.76      0.77      6277\n",
      "weighted avg       0.81      0.81      0.80      6277\n",
      "\n",
      "\n",
      "\n",
      "Accuracy score is: 80.74 %\n"
     ]
    }
   ],
   "source": [
    "#Confusion matrix, and classification report of KNN model for both training and test set.\n",
    "\n",
    "get_metrics(knn)"
   ]
  },
  {
   "cell_type": "code",
   "execution_count": 18,
   "id": "0f4c9e4d",
   "metadata": {},
   "outputs": [
    {
     "data": {
      "text/plain": [
       "Text(0, 0.5, 'Accuracy Scores')"
      ]
     },
     "execution_count": 18,
     "metadata": {},
     "output_type": "execute_result"
    },
    {
     "data": {
      "image/png": "[encoded data removed]",
      "text/plain": [
       "<Figure size 432x288 with 1 Axes>"
      ]
     },
     "metadata": {
      "needs_background": "light"
     },
     "output_type": "display_data"
    }
   ],
   "source": [
    "#When using KNN, we must specify the n_neighbors (K-value). We will try to find the optimal K-value first\n",
    "#For KNN, a higher K-value means a simpler model. We need to find the highest K-value that would maximize our accuracy score.  \n",
    "#It seems like the best value is at around 7.\n",
    "\n",
    "k_range = range(1,31)\n",
    "k_scores = []\n",
    "\n",
    "for i in  k_range:\n",
    "    knn = KNeighborsClassifier(n_neighbors=i)\n",
    "    score = cross_val_score(knn,X,y,cv=10,scoring='accuracy')\n",
    "    k_scores.append(score.mean())\n",
    "    \n",
    "plt.plot(k_range,k_scores)\n",
    "plt.xlabel('K-Values')\n",
    "plt.ylabel('Accuracy Scores')"
   ]
  },
  {
   "cell_type": "code",
   "execution_count": 19,
   "id": "550f9879",
   "metadata": {},
   "outputs": [
    {
     "name": "stdout",
     "output_type": "stream",
     "text": [
      "Train Performance\n",
      "\n",
      "\n",
      "[[2896 1586]\n",
      " [ 394 7867]]\n",
      "\n",
      "\n",
      "              precision    recall  f1-score   support\n",
      "\n",
      "           0       0.88      0.65      0.75      4482\n",
      "           1       0.83      0.95      0.89      8261\n",
      "\n",
      "    accuracy                           0.84     12743\n",
      "   macro avg       0.86      0.80      0.82     12743\n",
      "weighted avg       0.85      0.84      0.84     12743\n",
      "\n",
      "\n",
      "\n",
      "-----------------------------------------------------------\n",
      "Test Performance\n",
      "\n",
      "\n",
      "[[1277  929]\n",
      " [ 284 3787]]\n",
      "\n",
      "\n",
      "              precision    recall  f1-score   support\n",
      "\n",
      "           0       0.82      0.58      0.68      2206\n",
      "           1       0.80      0.93      0.86      4071\n",
      "\n",
      "    accuracy                           0.81      6277\n",
      "   macro avg       0.81      0.75      0.77      6277\n",
      "weighted avg       0.81      0.81      0.80      6277\n",
      "\n",
      "\n",
      "\n",
      "Accuracy score is: 80.68 %\n"
     ]
    }
   ],
   "source": [
    "#If we set the k-value to 7, we improve the accuracy by approx. 2 pts\n",
    "\n",
    "knn = KNeighborsClassifier(n_neighbors=7)\n",
    "\n",
    "get_metrics(knn)"
   ]
  },
  {
   "cell_type": "markdown",
   "id": "edcfb24e",
   "metadata": {},
   "source": [
    "<h2>Results</h2>\n",
    "<ul>\n",
    "    <li>Logistic regression produced an accuracy score of 78.86% with avg recall of 74%</li>\n",
    "    <li>XGBClassifier produced an accuracy score of 88.26% with avg recall of 86%</li>\n",
    "    <li>Random Forest Classifier produced an accuracy score of 87.80% with avg recall of 85%</li>\n",
    "    <li>KNN at k=7 produced an accuracy score of 80.68% with avg recall of 75%</li>\n",
    "    <li>Recall scores of the models reflect the imbalance in the dataset</li>\n",
    "</ul>\n",
    "\n",
    "<h2>Why do we need to balance the dataset?</h2>\n",
    "<ul><li>The reason is because the model will perform poorly when predicting the class of the minority sample</li></ul>"
   ]
  },
  {
   "cell_type": "markdown",
   "id": "a0a3464f",
   "metadata": {},
   "source": [
    "<h2>ROC Area Under the Curve - Unbalanced Dataset</h2>\n",
    "<ul>\n",
    "    <li>For accurately predicting the classes of the samples in unbalanced datasets, XGBClassifier works best </li>\n",
    "    <li>However, there are instances where we want to know the preformance of a  model to predict the probability of each sample belonging to a class. This is where ROC AUC comes in</li>\n",
    "    <li>Without diving into the details, a model with ROC AUC value close to 1 is good at predicting the probability that a sample belongs to a certain class </li>\n",
    "    \n",
    "</ul>"
   ]
  },
  {
   "cell_type": "code",
   "execution_count": 20,
   "id": "908c2c26",
   "metadata": {},
   "outputs": [
    {
     "name": "stdout",
     "output_type": "stream",
     "text": [
      "[23:33:22] WARNING: C:/Users/Administrator/workspace/xgboost-win64_release_1.5.1/src/learner.cc:1115: Starting in XGBoost 1.3.0, the default evaluation metric used with the objective 'binary:logistic' was changed from 'error' to 'logloss'. Explicitly set eval_metric if you'd like to restore the old behavior.\n",
      "XGBClassifier  AUC: 0.931\n"
     ]
    }
   ],
   "source": [
    "#XGBClassifier\n",
    "xgbc.fit(X_train,y_train)\n",
    "xgbc_probs = xgbc.predict_proba(X_test)\n",
    "xgbc_probs = xgbc_probs[:,1]\n",
    "xgbc_auc = roc_auc_score(y_test,xgbc_probs)\n",
    "\n",
    "print('XGBClassifier  AUC: {:.3f}'.format(xgbc_auc))"
   ]
  },
  {
   "cell_type": "code",
   "execution_count": 21,
   "id": "2ee0ee9a",
   "metadata": {},
   "outputs": [
    {
     "name": "stdout",
     "output_type": "stream",
     "text": [
      "Random Forest Classifier  AUC: 0.931\n"
     ]
    }
   ],
   "source": [
    "forest.fit(X_train,y_train)\n",
    "forest_probs = forest.predict_proba(X_test)\n",
    "forest_probs = forest_probs[:,1]\n",
    "forest_auc = roc_auc_score(y_test,forest_probs)\n",
    "\n",
    "print('Random Forest Classifier  AUC: {:.3f}'.format(forest_auc))"
   ]
  },
  {
   "cell_type": "code",
   "execution_count": 22,
   "id": "47716d10",
   "metadata": {},
   "outputs": [
    {
     "name": "stdout",
     "output_type": "stream",
     "text": [
      "KNN Prediction AUC: 0.841\n"
     ]
    }
   ],
   "source": [
    "knn.fit(X_train,y_train)\n",
    "knn_probs = knn.predict_proba(X_test)\n",
    "knn_probs = knn_probs[:,1]\n",
    "knn_auc = roc_auc_score(y_test,knn_probs)\n",
    "\n",
    "print('KNN Prediction AUC: {:.3f}'.format(knn_auc))"
   ]
  },
  {
   "cell_type": "code",
   "execution_count": 23,
   "id": "17bfa744",
   "metadata": {},
   "outputs": [
    {
     "name": "stdout",
     "output_type": "stream",
     "text": [
      "Logistic Regression  AUC: 0.837\n"
     ]
    }
   ],
   "source": [
    "log.fit(X_train,y_train)\n",
    "log_probs = log.predict_proba(X_test)\n",
    "log_probs = log_probs[:,1]\n",
    "log_auc = roc_auc_score(y_test,log_probs)\n",
    "\n",
    "print('Logistic Regression  AUC: {:.3f}'.format(log_auc))"
   ]
  },
  {
   "cell_type": "code",
   "execution_count": 24,
   "id": "2c951f8f",
   "metadata": {},
   "outputs": [
    {
     "data": {
      "text/plain": [
       "<matplotlib.legend.Legend at 0x29317185940>"
      ]
     },
     "execution_count": 24,
     "metadata": {},
     "output_type": "execute_result"
    },
    {
     "data": {
      "image/png": "[encoded data removed]",
      "text/plain": [
       "<Figure size 720x720 with 1 Axes>"
      ]
     },
     "metadata": {
      "needs_background": "light"
     },
     "output_type": "display_data"
    }
   ],
   "source": [
    "#We plot the ROC of the models\n",
    "#We can see that the \n",
    "\n",
    "r_probs = [0 for _ in range(len(y_test))] #This is just for the random prediction\n",
    "r_auc = roc_auc_score(y_test,r_probs)\n",
    "r_fpr,r_tpr,_ = roc_curve(y_test,r_probs)\n",
    "\n",
    "forest_fpr,forest_tpr,_ = roc_curve(y_test,forest_probs)\n",
    "xgbc_fpr, xgbc_tpr,_ = roc_curve(y_test,xgbc_probs)\n",
    "log_fpr, log_tpr,_ = roc_curve(y_test,log_probs)\n",
    "knn_fpr, knn_tpr,_ = roc_curve(y_test,knn_probs)\n",
    "\n",
    "plt.figure(figsize=(10,10))\n",
    "\n",
    "plt.plot(xgbc_fpr,xgbc_tpr,label='XGBClassifer ROC')\n",
    "plt.plot(forest_fpr,forest_tpr,label='Random Forest Classifier ROC')\n",
    "plt.plot(knn_fpr,knn_tpr,label='KNN ROC')\n",
    "plt.plot(log_fpr,log_tpr,label='Logistic Regression ROC')\n",
    "plt.plot(r_fpr,r_tpr,linestyle='--',label='Random')\n",
    "\n",
    "plt.title('ROC Plot')\n",
    "plt.xlabel('False Positivity Rate')\n",
    "plt.ylabel('True Positivity Rate')\n",
    "plt.legend()"
   ]
  },
  {
   "cell_type": "markdown",
   "id": "a190e14b",
   "metadata": {},
   "source": [
    "<h2>Results</h2>\n",
    "<ul>\n",
    "    <li>XGBClassifier has the highest AUC value at 0.931</li>\n",
    "</ul>"
   ]
  },
  {
   "cell_type": "markdown",
   "id": "5b054a8e",
   "metadata": {},
   "source": [
    "<h2>Metrics with balanced dataset and cross-validation</h2>\n",
    "<ul>\n",
    "    <li>The reason is because the model will perform poorly when predicting the class of the minority sample</li>\n",
    "    <li>We will use an oversampling method called SMOTE</li>\n",
    "    <li>Train test split randomly shuffles the samples; thus the classifiers will produce different metrics for each shuffle. Cross-validation remedies this</li>\n",
    "    \n",
    "    \n",
    "</ul>\n"
   ]
  },
  {
   "cell_type": "code",
   "execution_count": 25,
   "id": "053cf863",
   "metadata": {},
   "outputs": [],
   "source": [
    "from imblearn.over_sampling import SMOTE\n",
    "\n",
    "over = SMOTE()\n",
    "\n",
    "X, y = over.fit_resample(X,y)\n",
    "\n",
    "\n"
   ]
  },
  {
   "cell_type": "code",
   "execution_count": 26,
   "id": "caa3702b",
   "metadata": {},
   "outputs": [
    {
     "name": "stdout",
     "output_type": "stream",
     "text": [
      "Average accuracy score for random forest is: 89.35 %\n",
      "\n",
      "\n",
      "Standard deviation is: 1.30 %\n"
     ]
    }
   ],
   "source": [
    "scores_forest = cross_val_score(forest,X,y, cv=10, scoring='accuracy')\n",
    "print('Average accuracy score for random forest is: {:.2f} %'.format(scores_forest.mean()*100))\n",
    "print('\\n')\n",
    "print('Standard deviation is: {:.2f} %'.format(scores_forest.std()*100))"
   ]
  },
  {
   "cell_type": "code",
   "execution_count": 27,
   "id": "6d456976",
   "metadata": {},
   "outputs": [
    {
     "name": "stdout",
     "output_type": "stream",
     "text": [
      "Average accuracy score for KNN is: 82.55 %\n",
      "\n",
      "\n",
      "Standard deviation is: 2.29 %\n"
     ]
    }
   ],
   "source": [
    "scores_knn = cross_val_score(KNeighborsClassifier(n_neighbors=7),X,y, cv=10, scoring='accuracy')\n",
    "print('Average accuracy score for KNN is: {:.2f} %'.format(scores_knn.mean()*100))\n",
    "print('\\n')\n",
    "print('Standard deviation is: {:.2f} %'.format(scores_knn.std()*100))"
   ]
  },
  {
   "cell_type": "code",
   "execution_count": 28,
   "id": "88945151",
   "metadata": {},
   "outputs": [
    {
     "name": "stdout",
     "output_type": "stream",
     "text": [
      "Average accuracy score for logistic regression is: 76.31 %\n",
      "\n",
      "\n",
      "Standard deviation is: 0.40 %\n"
     ]
    }
   ],
   "source": [
    "scores_log = cross_val_score(log,X,y, cv=10, scoring='accuracy')\n",
    "print('Average accuracy score for logistic regression is: {:.2f} %'.format(scores_log.mean()*100))\n",
    "print('\\n')\n",
    "print('Standard deviation is: {:.2f} %'.format(scores_log.std()*100))"
   ]
  },
  {
   "cell_type": "code",
   "execution_count": 29,
   "id": "078db3fb",
   "metadata": {},
   "outputs": [
    {
     "name": "stdout",
     "output_type": "stream",
     "text": [
      "[23:34:15] WARNING: C:/Users/Administrator/workspace/xgboost-win64_release_1.5.1/src/learner.cc:1115: Starting in XGBoost 1.3.0, the default evaluation metric used with the objective 'binary:logistic' was changed from 'error' to 'logloss'. Explicitly set eval_metric if you'd like to restore the old behavior.\n",
      "[23:34:16] WARNING: C:/Users/Administrator/workspace/xgboost-win64_release_1.5.1/src/learner.cc:1115: Starting in XGBoost 1.3.0, the default evaluation metric used with the objective 'binary:logistic' was changed from 'error' to 'logloss'. Explicitly set eval_metric if you'd like to restore the old behavior.\n",
      "[23:34:17] WARNING: C:/Users/Administrator/workspace/xgboost-win64_release_1.5.1/src/learner.cc:1115: Starting in XGBoost 1.3.0, the default evaluation metric used with the objective 'binary:logistic' was changed from 'error' to 'logloss'. Explicitly set eval_metric if you'd like to restore the old behavior.\n",
      "[23:34:17] WARNING: C:/Users/Administrator/workspace/xgboost-win64_release_1.5.1/src/learner.cc:1115: Starting in XGBoost 1.3.0, the default evaluation metric used with the objective 'binary:logistic' was changed from 'error' to 'logloss'. Explicitly set eval_metric if you'd like to restore the old behavior.\n",
      "[23:34:18] WARNING: C:/Users/Administrator/workspace/xgboost-win64_release_1.5.1/src/learner.cc:1115: Starting in XGBoost 1.3.0, the default evaluation metric used with the objective 'binary:logistic' was changed from 'error' to 'logloss'. Explicitly set eval_metric if you'd like to restore the old behavior.\n",
      "[23:34:19] WARNING: C:/Users/Administrator/workspace/xgboost-win64_release_1.5.1/src/learner.cc:1115: Starting in XGBoost 1.3.0, the default evaluation metric used with the objective 'binary:logistic' was changed from 'error' to 'logloss'. Explicitly set eval_metric if you'd like to restore the old behavior.\n",
      "[23:34:20] WARNING: C:/Users/Administrator/workspace/xgboost-win64_release_1.5.1/src/learner.cc:1115: Starting in XGBoost 1.3.0, the default evaluation metric used with the objective 'binary:logistic' was changed from 'error' to 'logloss'. Explicitly set eval_metric if you'd like to restore the old behavior.\n",
      "[23:34:20] WARNING: C:/Users/Administrator/workspace/xgboost-win64_release_1.5.1/src/learner.cc:1115: Starting in XGBoost 1.3.0, the default evaluation metric used with the objective 'binary:logistic' was changed from 'error' to 'logloss'. Explicitly set eval_metric if you'd like to restore the old behavior.\n",
      "[23:34:21] WARNING: C:/Users/Administrator/workspace/xgboost-win64_release_1.5.1/src/learner.cc:1115: Starting in XGBoost 1.3.0, the default evaluation metric used with the objective 'binary:logistic' was changed from 'error' to 'logloss'. Explicitly set eval_metric if you'd like to restore the old behavior.\n",
      "[23:34:22] WARNING: C:/Users/Administrator/workspace/xgboost-win64_release_1.5.1/src/learner.cc:1115: Starting in XGBoost 1.3.0, the default evaluation metric used with the objective 'binary:logistic' was changed from 'error' to 'logloss'. Explicitly set eval_metric if you'd like to restore the old behavior.\n",
      "Average accuracy score for XGBClassifier is: 88.34 %\n",
      "\n",
      "\n",
      "standard deviation is: 1.13 %\n"
     ]
    }
   ],
   "source": [
    "scores_xgbc = cross_val_score(XGBClassifier(use_label_encoder=False), X,y, cv=10, scoring='accuracy') \n",
    "print('Average accuracy score for XGBClassifier is: {:.2f} %'.format(scores_xgbc.mean()*100))\n",
    "print('\\n')\n",
    "print('standard deviation is: {:.2f} %'.format(scores_xgbc.std()*100))"
   ]
  },
  {
   "cell_type": "markdown",
   "id": "18b11f5f",
   "metadata": {},
   "source": [
    "<h2>Results from balanced dataset</h2>\n",
    "\n",
    "<ul>\n",
    "    <li>Logistic regression produced an avg accuracy score of 76.59% </li>\n",
    "    <li>XGBClassifier produced an avg accuracy score of 88.55% </li>\n",
    "    <li>Random Forest Classifier produced an accuracy score of 89.21% </li>\n",
    "    <li>KNN at k=7 produced an accuracy score of 82.94% </li>\n",
    "    <li>The accuracy score of each classifier increased, except for logistic regression</li>\n",
    "    <li>Unlike in the imbalanced dataset, random forest classifier performed better when using balanced dataset. This is because XGBClassifier can work with imbalanced datasets while random forest classifier does not</li>\n",
    "</ul>"
   ]
  },
  {
   "cell_type": "markdown",
   "id": "ef52d546",
   "metadata": {},
   "source": [
    "<h2>ROC Area Under the Curve - Balanced Dataset</h2>\n",
    "<ul>\n",
    "    <li>We are now going to compare the average ROC AUC value for each classifier</li>\n",
    " "
   ]
  },
  {
   "cell_type": "code",
   "execution_count": 30,
   "id": "5e35b285",
   "metadata": {},
   "outputs": [
    {
     "name": "stdout",
     "output_type": "stream",
     "text": [
      "[23:34:22] WARNING: C:/Users/Administrator/workspace/xgboost-win64_release_1.5.1/src/learner.cc:1115: Starting in XGBoost 1.3.0, the default evaluation metric used with the objective 'binary:logistic' was changed from 'error' to 'logloss'. Explicitly set eval_metric if you'd like to restore the old behavior.\n",
      "[23:34:23] WARNING: C:/Users/Administrator/workspace/xgboost-win64_release_1.5.1/src/learner.cc:1115: Starting in XGBoost 1.3.0, the default evaluation metric used with the objective 'binary:logistic' was changed from 'error' to 'logloss'. Explicitly set eval_metric if you'd like to restore the old behavior.\n",
      "[23:34:24] WARNING: C:/Users/Administrator/workspace/xgboost-win64_release_1.5.1/src/learner.cc:1115: Starting in XGBoost 1.3.0, the default evaluation metric used with the objective 'binary:logistic' was changed from 'error' to 'logloss'. Explicitly set eval_metric if you'd like to restore the old behavior.\n",
      "[23:34:25] WARNING: C:/Users/Administrator/workspace/xgboost-win64_release_1.5.1/src/learner.cc:1115: Starting in XGBoost 1.3.0, the default evaluation metric used with the objective 'binary:logistic' was changed from 'error' to 'logloss'. Explicitly set eval_metric if you'd like to restore the old behavior.\n",
      "[23:34:25] WARNING: C:/Users/Administrator/workspace/xgboost-win64_release_1.5.1/src/learner.cc:1115: Starting in XGBoost 1.3.0, the default evaluation metric used with the objective 'binary:logistic' was changed from 'error' to 'logloss'. Explicitly set eval_metric if you'd like to restore the old behavior.\n",
      "[23:34:26] WARNING: C:/Users/Administrator/workspace/xgboost-win64_release_1.5.1/src/learner.cc:1115: Starting in XGBoost 1.3.0, the default evaluation metric used with the objective 'binary:logistic' was changed from 'error' to 'logloss'. Explicitly set eval_metric if you'd like to restore the old behavior.\n",
      "[23:34:27] WARNING: C:/Users/Administrator/workspace/xgboost-win64_release_1.5.1/src/learner.cc:1115: Starting in XGBoost 1.3.0, the default evaluation metric used with the objective 'binary:logistic' was changed from 'error' to 'logloss'. Explicitly set eval_metric if you'd like to restore the old behavior.\n",
      "[23:34:28] WARNING: C:/Users/Administrator/workspace/xgboost-win64_release_1.5.1/src/learner.cc:1115: Starting in XGBoost 1.3.0, the default evaluation metric used with the objective 'binary:logistic' was changed from 'error' to 'logloss'. Explicitly set eval_metric if you'd like to restore the old behavior.\n",
      "[23:34:28] WARNING: C:/Users/Administrator/workspace/xgboost-win64_release_1.5.1/src/learner.cc:1115: Starting in XGBoost 1.3.0, the default evaluation metric used with the objective 'binary:logistic' was changed from 'error' to 'logloss'. Explicitly set eval_metric if you'd like to restore the old behavior.\n",
      "[23:34:29] WARNING: C:/Users/Administrator/workspace/xgboost-win64_release_1.5.1/src/learner.cc:1115: Starting in XGBoost 1.3.0, the default evaluation metric used with the objective 'binary:logistic' was changed from 'error' to 'logloss'. Explicitly set eval_metric if you'd like to restore the old behavior.\n",
      "Average AUC value for XGBClassifier is: 0.953 \n",
      "\n",
      "\n",
      "Standard deviation is: 0.01 %\n"
     ]
    }
   ],
   "source": [
    "xgbc_auc = cross_val_score(XGBClassifier(use_label_encoder=False),X,y,cv=10,scoring='roc_auc')\n",
    "print('Average AUC value for XGBClassifier is: {:.3f} '.format(xgbc_auc.mean()))\n",
    "print('\\n')\n",
    "print('Standard deviation is: {:.2f} %'.format(xgbc_auc.std()))"
   ]
  },
  {
   "cell_type": "code",
   "execution_count": 31,
   "id": "87a5f05d",
   "metadata": {},
   "outputs": [
    {
     "name": "stdout",
     "output_type": "stream",
     "text": [
      "Average AUC value for RF Classifier is: 0.959 \n",
      "\n",
      "\n",
      "Standard deviation is: 0.01 %\n"
     ]
    }
   ],
   "source": [
    "rf_auc = cross_val_score(RandomForestClassifier(),X,y,cv=10,scoring='roc_auc')\n",
    "print('Average AUC value for RF Classifier is: {:.3f} '.format(rf_auc.mean()))\n",
    "print('\\n')\n",
    "print('Standard deviation is: {:.2f} %'.format(rf_auc.std()))"
   ]
  },
  {
   "cell_type": "code",
   "execution_count": 32,
   "id": "1fa69a3a",
   "metadata": {},
   "outputs": [
    {
     "name": "stdout",
     "output_type": "stream",
     "text": [
      "Average AUC value for KNN is: 0.909 \n",
      "\n",
      "\n",
      "Standard deviation is: 0.02 %\n"
     ]
    }
   ],
   "source": [
    "knn_auc = cross_val_score(KNeighborsClassifier(n_neighbors=7),X,y,cv=10,scoring='roc_auc')\n",
    "print('Average AUC value for KNN is: {:.3f} '.format(knn_auc.mean()))\n",
    "print('\\n')\n",
    "print('Standard deviation is: {:.2f} %'.format(knn_auc.std()))"
   ]
  },
  {
   "cell_type": "code",
   "execution_count": 33,
   "id": "131663e1",
   "metadata": {},
   "outputs": [
    {
     "name": "stdout",
     "output_type": "stream",
     "text": [
      "Average AUC value for logistic regression is: 0.837 \n",
      "\n",
      "\n",
      "Standard deviation is: 0.01 %\n"
     ]
    }
   ],
   "source": [
    "log_auc = cross_val_score(LogisticRegression(),X,y,cv=10,scoring='roc_auc')\n",
    "print('Average AUC value for logistic regression is: {:.3f} '.format(log_auc.mean()))\n",
    "print('\\n')\n",
    "print('Standard deviation is: {:.2f} %'.format(log_auc.std()))"
   ]
  },
  {
   "cell_type": "markdown",
   "id": "2e0b2c5e",
   "metadata": {},
   "source": [
    "<h2>Results of Avg AUC from Balanced Dataset</h2>\n",
    "\n",
    "<ul>\n",
    "    <li>Logistic regression produced an avg AUC value of 0.840 </li>\n",
    "    <li>XGBClassifier produced an avg AUC value of 0.952 </li>\n",
    "    <li>Random Forest Classifier produced an avg AUC of 0.958  </li>\n",
    "    <li>KNN at k=7 produced an avg AUC value of 0.910</li>\n",
    "    <li>In predicting the probability of classes, RF Classifier works best</li>\n",
    "    \n",
    "</ul>"
   ]
  },
  {
   "cell_type": "markdown",
   "id": "ce51bf13",
   "metadata": {},
   "source": [
    "<h2>Conclusion</h2>\n",
    "<p>RF Classifier outperformed all classifiers in terms of avg accuracy score and avg AUC score. However, in terms of computing speed, XGBClassifier is considerably faster.</p>"
   ]
  },
  {
   "cell_type": "markdown",
   "id": "1744ad20",
   "metadata": {},
   "source": [
    "<h2>Recommendations</h2>\n",
    "<ul>\n",
    "    <li>Create an ANN</li>\n",
    "    <li>Perform hyperparameter tuning to XGBClassifer and RF Classifier and compare performance</li>\n",
    "</ul>"
   ]
  },
  {
   "cell_type": "code",
   "execution_count": null,
   "id": "bfdf4cfb",
   "metadata": {},
   "outputs": [],
   "source": []
  }
 ],
 "metadata": {
  "kernelspec": {
   "display_name": "Python 3 (ipykernel)",
   "language": "python",
   "name": "python3"
  },
  "language_info": {
   "codemirror_mode": {
    "name": "ipython",
    "version": 3
   },
   "file_extension": ".py",
   "mimetype": "text/x-python",
   "name": "python",
   "nbconvert_exporter": "python",
   "pygments_lexer": "ipython3",
   "version": "3.9.7"
  }
 },
 "nbformat": 4,
 "nbformat_minor": 5
}
